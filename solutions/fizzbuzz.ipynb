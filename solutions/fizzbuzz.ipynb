{
 "cells": [
  {
   "cell_type": "markdown",
   "metadata": {},
   "source": [
    "# FizzBuzz\n",
    "\n",
    "First do a quick an dirty implementation - the api is that you just pass in the number of terms you want and it will print the list of those terms with the appropriate replacements.\n",
    "\n",
    "As a starting point don't even do the replacements"
   ]
  },
  {
   "cell_type": "code",
   "execution_count": 1,
   "metadata": {},
   "outputs": [
    {
     "name": "stdout",
     "output_type": "stream",
     "text": [
      "1\n",
      "2\n",
      "3\n",
      "4\n",
      "5\n"
     ]
    }
   ],
   "source": [
    "def fizzbuzz(terms):\n",
    "    for i in range(1, terms + 1):\n",
    "        print(i)\n",
    "\n",
    "fizzbuzz(5)"
   ]
  },
  {
   "cell_type": "markdown",
   "metadata": {},
   "source": [
    "next put in the logic for 3 and 5"
   ]
  },
  {
   "cell_type": "code",
   "execution_count": 2,
   "metadata": {},
   "outputs": [
    {
     "name": "stdout",
     "output_type": "stream",
     "text": [
      "1\n",
      "2\n",
      "fizz\n",
      "4\n",
      "buzz\n"
     ]
    }
   ],
   "source": [
    "def fizzbuzz(terms):\n",
    "    for i in range(1, terms + 1):\n",
    "        if (i % 3 == 0):\n",
    "            print(\"fizz\")\n",
    "        elif (i % 5 == 0):\n",
    "            print(\"buzz\")\n",
    "        else:\n",
    "            print(i)\n",
    "\n",
    "fizzbuzz(5)"
   ]
  },
  {
   "cell_type": "markdown",
   "metadata": {},
   "source": [
    "next add the 3 and 5 condition. The fizzbuzz 'thing' is that the decision tree is rendered most simple if the most stringent check is at the top"
   ]
  },
  {
   "cell_type": "code",
   "execution_count": 3,
   "metadata": {},
   "outputs": [
    {
     "name": "stdout",
     "output_type": "stream",
     "text": [
      "1\n",
      "2\n",
      "fizz\n",
      "4\n",
      "buzz\n",
      "fizz\n",
      "7\n",
      "8\n",
      "fizz\n",
      "buzz\n",
      "11\n",
      "fizz\n",
      "13\n",
      "14\n",
      "fizzbuzz\n"
     ]
    }
   ],
   "source": [
    "def fizzbuzz(terms):\n",
    "    for i in range(1, terms + 1):\n",
    "        if (i % 3 == 0) and (i % 5 == 0):\n",
    "            print(\"fizzbuzz\")\n",
    "        elif (i % 3 == 0):\n",
    "            print(\"fizz\")\n",
    "        elif (i % 5 == 0):\n",
    "            print(\"buzz\")\n",
    "        else:\n",
    "            print(i)\n",
    "\n",
    "fizzbuzz(15)"
   ]
  },
  {
   "cell_type": "markdown",
   "metadata": {},
   "source": [
    "That's a complete implementation, in the real world I would stop there until more business requirements came in, first because it wouldn't add any value, but also because otherwise you have to make implicit assumptions about future requirements, and you could do something which you will later have to unpick. Those assumptions you make which seem at the time to be so self evident you might not even realize you are making them have a nasty habit of being proved wrong by events. \n",
    "\n",
    "Optimising now would be premature. What we have is small, self-contained and (because it's a simple problem) very understandable. It's very specific and concrete, but so are the requirements. \n",
    "\n",
    "But for the sake of argument lets continue.\n",
    "\n",
    "First, `fizzbuzz` is doing 2 things: deciding ahat should be printed, and printing it. Pull the decision out into a separate function "
   ]
  },
  {
   "cell_type": "code",
   "execution_count": 4,
   "metadata": {},
   "outputs": [
    {
     "name": "stdout",
     "output_type": "stream",
     "text": [
      "1\n",
      "2\n",
      "fizz\n",
      "4\n",
      "buzz\n",
      "fizz\n",
      "7\n",
      "8\n",
      "fizz\n",
      "buzz\n",
      "11\n",
      "fizz\n",
      "13\n",
      "14\n",
      "fizzbuzz\n"
     ]
    }
   ],
   "source": [
    "def decider(i):\n",
    "    if (i % 3 == 0) and (i % 5 == 0):\n",
    "        return \"fizzbuzz\"\n",
    "    if (i % 3 == 0):\n",
    "        return \"fizz\"\n",
    "    if (i % 5 == 0):\n",
    "        return \"buzz\"\n",
    "    return i\n",
    "\n",
    "def fizzbuzz(terms):\n",
    "    for i in range(1, terms + 1):\n",
    "        print(decider(i))\n",
    "\n",
    "fizzbuzz(15)"
   ]
  },
  {
   "cell_type": "markdown",
   "metadata": {},
   "source": [
    "There's some repetative checking going on in decider, which means if more conditions are added it will start to get messy. Lets fix that.\n",
    "\n",
    "We want every number/string pair to be checked only once, so if additional conditions are added it will only add an if, and more importantly we won't be touching existing code, we can extend behaviour without modifying."
   ]
  },
  {
   "cell_type": "code",
   "execution_count": 6,
   "metadata": {},
   "outputs": [
    {
     "name": "stdout",
     "output_type": "stream",
     "text": [
      "1\n",
      "2\n",
      "fizz\n",
      "4\n",
      "buzz\n",
      "fizz\n",
      "7\n",
      "8\n",
      "fizz\n",
      "buzz\n",
      "11\n",
      "fizz\n",
      "13\n",
      "14\n",
      "fizzbuzz\n"
     ]
    }
   ],
   "source": [
    "def decider(i):\n",
    "    rv = \"\"\n",
    "    if (i % 3 == 0):\n",
    "        rv += \"fizz\"\n",
    "    if (i % 5 == 0):\n",
    "        rv += \"buzz\"\n",
    "    return (rv if rv != \"\" else i)\n",
    "\n",
    "def fizzbuzz(terms):\n",
    "    for i in range(1, terms + 1):\n",
    "        print(decider(i))\n",
    "\n",
    "fizzbuzz(15)"
   ]
  },
  {
   "cell_type": "markdown",
   "metadata": {},
   "source": [
    "The pattern here would look better as a ternery"
   ]
  },
  {
   "cell_type": "code",
   "execution_count": 7,
   "metadata": {},
   "outputs": [
    {
     "name": "stdout",
     "output_type": "stream",
     "text": [
      "1\n",
      "2\n",
      "fizz\n",
      "4\n",
      "buzz\n",
      "fizz\n",
      "7\n",
      "8\n",
      "fizz\n",
      "buzz\n",
      "11\n",
      "fizz\n",
      "13\n",
      "14\n",
      "fizzbuzz\n"
     ]
    }
   ],
   "source": [
    "def decider(i):\n",
    "    rv = \"\"\n",
    "    rv += (\"fizz\" if i % 3 == 0 else \"\")\n",
    "    rv += (\"buzz\" if i % 5 == 0 else \"\")\n",
    "    return (rv if rv != \"\" else i)\n",
    "\n",
    "def fizzbuzz(terms):\n",
    "    for i in range(1, terms + 1):\n",
    "        print(decider(i))\n",
    "\n",
    "fizzbuzz(15)"
   ]
  },
  {
   "cell_type": "markdown",
   "metadata": {},
   "source": [
    "Now adding a condition is just a single line. But those lines are repetitive, we can do better"
   ]
  },
  {
   "cell_type": "code",
   "execution_count": 8,
   "metadata": {},
   "outputs": [
    {
     "name": "stdout",
     "output_type": "stream",
     "text": [
      "1\n",
      "2\n",
      "fizz\n",
      "4\n",
      "buzz\n",
      "fizz\n",
      "7\n",
      "8\n",
      "fizz\n",
      "buzz\n",
      "11\n",
      "fizz\n",
      "13\n",
      "14\n",
      "fizzbuzz\n"
     ]
    }
   ],
   "source": [
    "def decider(i):\n",
    "    replacements = {\"fizz\": 3, \"buzz\": 5}\n",
    "    rv = \"\"\n",
    "    \n",
    "    for string, number in replacements.items():\n",
    "        rv += (string if i % number == 0 else \"\")\n",
    "        \n",
    "    return (rv if rv != \"\" else i)\n",
    "\n",
    "def fizzbuzz(terms):\n",
    "    for i in range(1, terms + 1):\n",
    "        print(decider(i))\n",
    "\n",
    "fizzbuzz(15)"
   ]
  },
  {
   "cell_type": "markdown",
   "metadata": {},
   "source": [
    "(note this is reliant on the fact that Pythons dictionaries guarantee order retention out the box. In other languages they often don't)\n",
    "\n",
    "To make the decider ultimately generic, we'll add an optional argument to decider to pass in a dictionary of words and what they'll replace. \n",
    "\n",
    "It should definately be optional if our decider is public (which it is in python), because we've already established our API, and should avoid making breaking changes.\n",
    "\n",
    "Notice our `fizzbuzz` API hasn't changed since the intial implementation, and has no additional behaviour."
   ]
  },
  {
   "cell_type": "code",
   "execution_count": 16,
   "metadata": {},
   "outputs": [
    {
     "name": "stdout",
     "output_type": "stream",
     "text": [
      "1\n",
      "2\n",
      "fizz\n",
      "4\n",
      "buzz\n",
      "fizz\n",
      "7\n",
      "8\n",
      "fizz\n",
      "buzz\n",
      "11\n",
      "fizz\n",
      "13\n",
      "14\n",
      "fizzbuzz\n",
      "=========\n",
      "1\n",
      "2\n",
      "blip\n",
      "4\n",
      "blop\n",
      "blip\n",
      "blap\n",
      "8\n",
      "blip\n",
      "blop\n",
      "11\n",
      "blip\n",
      "13\n",
      "blap\n",
      "blipblop\n",
      "16\n",
      "17\n",
      "blip\n",
      "19\n",
      "blop\n",
      "blipblap\n"
     ]
    }
   ],
   "source": [
    "def decider(i, replacements={\"fizz\": 3, \"buzz\": 5}):\n",
    "    rv = \"\"\n",
    "    #\n",
    "    for string, number in replacements.items():\n",
    "        rv += (string if i % number == 0 else \"\")\n",
    "        \n",
    "    return (rv if rv != \"\" else i)\n",
    "\n",
    "def fizzbuzz(terms):\n",
    "    for i in range(1, terms + 1):\n",
    "        print(decider(i))\n",
    "\n",
    "def blipblopblap(terms):\n",
    "    for i in range(1, terms + 1):\n",
    "        print(decider(i, {\"blip\": 3, \"blop\": 5, \"blap\": 7}))\n",
    "        \n",
    "fizzbuzz(15)\n",
    "print(\"=========\")\n",
    "blipblopblap(21)"
   ]
  },
  {
   "cell_type": "code",
   "execution_count": null,
   "metadata": {},
   "outputs": [],
   "source": []
  }
 ],
 "metadata": {
  "kernelspec": {
   "display_name": "Python 3",
   "language": "python",
   "name": "python3"
  },
  "language_info": {
   "codemirror_mode": {
    "name": "ipython",
    "version": 3
   },
   "file_extension": ".py",
   "mimetype": "text/x-python",
   "name": "python",
   "nbconvert_exporter": "python",
   "pygments_lexer": "ipython3",
   "version": "3.6.9"
  }
 },
 "nbformat": 4,
 "nbformat_minor": 4
}
